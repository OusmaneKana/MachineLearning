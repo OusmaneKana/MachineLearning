{
 "cells": [
  {
   "cell_type": "code",
   "execution_count": null,
   "metadata": {},
   "outputs": [],
   "source": []
  },
  {
   "cell_type": "code",
   "execution_count": 14,
   "metadata": {},
   "outputs": [
    {
     "name": "stdout",
     "output_type": "stream",
     "text": [
      "(7, 10)\n"
     ]
    }
   ],
   "source": [
    "import gym\n",
    "import numpy as np\n",
    "env = gym.make(\"MountainCar-v0\")\n",
    "\n",
    "\n",
    "LEARNING_RATE = 0.1\n",
    "DISCOUNT = 0.95\n",
    "EPISODES = 25000\n",
    "\n",
    "DISCRETE_OS_SIZE = [20] * len(env.observation_space.high)\n",
    "discrete_os_win_size = (env.observation_space.high - env.observation_space.low)/DISCRETE_OS_SIZE\n",
    "\n",
    "\n",
    "q_table = np.random.uniform(low = -2, high=0, size=(DISCRETE_OS_SIZE + [env.action_space.n]))\n",
    "\n",
    "def get_discrete_state(state):\n",
    "    discrete_state = (state - env.observation_space.low)/ discrete_os_win_size\n",
    "    return tuple(discrete_state.astype(np.int))\n",
    "discrete_state = get_discrete_state(env.reset())\n",
    "\n",
    "print(discrete_state)\n",
    "\n",
    "#print(np.argmax(q_table[discrete_state]))\n",
    "\n",
    "done = False\n",
    "while not done:\n",
    "    action = np.argmax(q_table[discrete_state])\n",
    "    new_state, reward, done, _ = env.step(action)\n",
    "    \n",
    "    new_discrete_state = get_discrete_state(new_state)\n",
    "    env.render()\n",
    "    if not done:\n",
    "        max_future_q = np.max(q_table[new_discrete_state])\n",
    "        current_q = q_table[discrete_state + (action, )]\n",
    "        \n",
    "        new_q = (1- LEARNING_RATE) * current_q + LEARNING_RATE *(reward + DISCOUNT * max_future_q)\n",
    "        q_table[discrete_state+(action, )] = new_q\n",
    "    elif new_state[0]>= env.goal_position:\n",
    "        q_table[discrete_state+(action,)] = 0\n",
    "    \n",
    "    discrete_state = new_discrete_state\n",
    "    \n",
    "    \n",
    "env.close()\n",
    "\n",
    "\n"
   ]
  },
  {
   "cell_type": "code",
   "execution_count": null,
   "metadata": {},
   "outputs": [],
   "source": []
  },
  {
   "cell_type": "code",
   "execution_count": null,
   "metadata": {},
   "outputs": [],
   "source": []
  }
 ],
 "metadata": {
  "kernelspec": {
   "display_name": "Python 3",
   "language": "python",
   "name": "python3"
  },
  "language_info": {
   "codemirror_mode": {
    "name": "ipython",
    "version": 3
   },
   "file_extension": ".py",
   "mimetype": "text/x-python",
   "name": "python",
   "nbconvert_exporter": "python",
   "pygments_lexer": "ipython3",
   "version": "3.7.4"
  }
 },
 "nbformat": 4,
 "nbformat_minor": 2
}
